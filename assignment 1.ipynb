{
 "cells": [
  {
   "cell_type": "markdown",
   "metadata": {},
   "source": [
    "1.##psuedo code for the first problem:\n",
    " a)generate numbers from 2000 to 3200 including them\n",
    " b)check whether number in range is divisible by 7 and not by 5 by checking modulus operator\n",
    " c)include the multiple of 7 to list by converting them as string\n",
    " d)add desired out put with comma seperator.\n",
    " \n",
    " \n",
    "  "
   ]
  },
  {
   "cell_type": "code",
   "execution_count": 3,
   "metadata": {},
   "outputs": [
    {
     "name": "stdout",
     "output_type": "stream",
     "text": [
      "2002,2009,2016,2023,2037,2044,2051,2058,2072,2079,2086,2093,2107,2114,2121,2128,2142,2149,2156,2163,2177,2184,2191,2198,2212,2219,2226,2233,2247,2254,2261,2268,2282,2289,2296,2303,2317,2324,2331,2338,2352,2359,2366,2373,2387,2394,2401,2408,2422,2429,2436,2443,2457,2464,2471,2478,2492,2499,2506,2513,2527,2534,2541,2548,2562,2569,2576,2583,2597,2604,2611,2618,2632,2639,2646,2653,2667,2674,2681,2688,2702,2709,2716,2723,2737,2744,2751,2758,2772,2779,2786,2793,2807,2814,2821,2828,2842,2849,2856,2863,2877,2884,2891,2898,2912,2919,2926,2933,2947,2954,2961,2968,2982,2989,2996,3003,3017,3024,3031,3038,3052,3059,3066,3073,3087,3094,3101,3108,3122,3129,3136,3143,3157,3164,3171,3178,3192,3199\n"
     ]
    }
   ],
   "source": [
    "numbers = []\n",
    "for i in range(2000,3200): #take numbers from given numbers including limit\n",
    "    \n",
    "    if((i % 5 != 0) and (i %7 == 0)):  # check whether it is not a multiple of 5 and multiple of 7 \n",
    "        numbers.append(str(i))\n",
    "print (','.join(numbers))     #print desired output with comma seperator\n",
    "        \n",
    " "
   ]
  },
  {
   "cell_type": "markdown",
   "metadata": {},
   "source": [
    "###### 2.write a program to accept user first name and second name and print them in reverse order with space between them"
   ]
  },
  {
   "cell_type": "code",
   "execution_count": 12,
   "metadata": {},
   "outputs": [
    {
     "name": "stdout",
     "output_type": "stream",
     "text": [
      "Enter firstname:\n",
      "suneel\n",
      "Enter lastname:\n",
      "hiremath\n",
      "suneel_hiremath\n"
     ]
    }
   ],
   "source": [
    "print(\"Enter firstname:\")\n",
    "firstname = input()\n",
    "print(\"Enter lastname:\")\n",
    "lastname = input()\n",
    "fullname = firstname +'_'+ lastname\n",
    "fullname.split('_')\n",
    "print(fullname.replacee)\n"
   ]
  },
  {
   "cell_type": "markdown",
   "metadata": {},
   "source": [
    "#### 3.write a program to find volume of sphere given diameter is 12cm,\n",
    "Formula: V=4/3 * π * r 3\n"
   ]
  },
  {
   "cell_type": "code",
   "execution_count": 19,
   "metadata": {},
   "outputs": [
    {
     "name": "stdout",
     "output_type": "stream",
     "text": [
      "volume of sphere 904.896\n"
     ]
    }
   ],
   "source": [
    "import math\n",
    "d = 12\n",
    "r=(d/2)\n",
    "\n",
    "volume= (math.pow(r,3)) *(4/3) *3.142\n",
    "print(\"volume of sphere\",volume)"
   ]
  },
  {
   "cell_type": "code",
   "execution_count": null,
   "metadata": {},
   "outputs": [],
   "source": []
  }
 ],
 "metadata": {
  "kernelspec": {
   "display_name": "Python 3",
   "language": "python",
   "name": "python3"
  },
  "language_info": {
   "codemirror_mode": {
    "name": "ipython",
    "version": 3
   },
   "file_extension": ".py",
   "mimetype": "text/x-python",
   "name": "python",
   "nbconvert_exporter": "python",
   "pygments_lexer": "ipython3",
   "version": "3.8.3"
  }
 },
 "nbformat": 4,
 "nbformat_minor": 4
}
